{
  "nbformat": 4,
  "nbformat_minor": 0,
  "metadata": {
    "colab": {
      "provenance": [],
      "authorship_tag": "ABX9TyNu3L6YmVPHzFr3KIizQz7N",
      "include_colab_link": true
    },
    "kernelspec": {
      "name": "python3",
      "display_name": "Python 3"
    },
    "language_info": {
      "name": "python"
    }
  },
  "cells": [
    {
      "cell_type": "markdown",
      "metadata": {
        "id": "view-in-github",
        "colab_type": "text"
      },
      "source": [
        "<a href=\"https://colab.research.google.com/github/viswavich/DABOTICS-TASK-3-PYTHON-INTERN/blob/main/URL.ipynb\" target=\"_parent\"><img src=\"https://colab.research.google.com/assets/colab-badge.svg\" alt=\"Open In Colab\"/></a>"
      ]
    },
    {
      "cell_type": "code",
      "source": [
        "!pip install flask pyngrok\n",
        "\n",
        "# Set your ngrok authtoken\n",
        "from pyngrok import ngrok\n",
        "\n",
        "ngrok.set_auth_token('2jMqkBE1YRakjFDUos5ji7Blg39_7acurSLwisxB57NrwL3W1')"
      ],
      "metadata": {
        "colab": {
          "base_uri": "https://localhost:8080/"
        },
        "id": "x3zLteEz-DEW",
        "outputId": "e6d16621-7086-42c8-d966-63d60593b9fd"
      },
      "execution_count": 30,
      "outputs": [
        {
          "output_type": "stream",
          "name": "stdout",
          "text": [
            "Requirement already satisfied: flask in /usr/local/lib/python3.10/dist-packages (2.2.5)\n",
            "Requirement already satisfied: pyngrok in /usr/local/lib/python3.10/dist-packages (7.1.6)\n",
            "Requirement already satisfied: Werkzeug>=2.2.2 in /usr/local/lib/python3.10/dist-packages (from flask) (3.0.3)\n",
            "Requirement already satisfied: Jinja2>=3.0 in /usr/local/lib/python3.10/dist-packages (from flask) (3.1.4)\n",
            "Requirement already satisfied: itsdangerous>=2.0 in /usr/local/lib/python3.10/dist-packages (from flask) (2.2.0)\n",
            "Requirement already satisfied: click>=8.0 in /usr/local/lib/python3.10/dist-packages (from flask) (8.1.7)\n",
            "Requirement already satisfied: PyYAML>=5.1 in /usr/local/lib/python3.10/dist-packages (from pyngrok) (6.0.1)\n",
            "Requirement already satisfied: MarkupSafe>=2.0 in /usr/local/lib/python3.10/dist-packages (from Jinja2>=3.0->flask) (2.1.5)\n"
          ]
        }
      ]
    },
    {
      "cell_type": "code",
      "source": [
        "from flask import Flask, request, redirect, render_template_string\n",
        "import sqlite3\n",
        "import string\n",
        "import random\n",
        "\n",
        "app = Flask(__name__)\n",
        "\n",
        "# Connect to the SQLite database\n",
        "def get_db_connection():\n",
        "    conn = sqlite3.connect('database.db')\n",
        "    conn.row_factory = sqlite3.Row\n",
        "    return conn\n",
        "\n",
        "# Create table\n",
        "def init_db():\n",
        "    conn = get_db_connection()\n",
        "    conn.execute('CREATE TABLE IF NOT EXISTS urls (id INTEGER PRIMARY KEY, original_url TEXT, short_url TEXT)')\n",
        "    conn.commit()\n",
        "    conn.close()\n",
        "\n",
        "# Generate a random short URL\n",
        "def generate_short_url(length=6):\n",
        "    characters = string.ascii_letters + string.digits\n",
        "    short_url = ''.join(random.choice(characters) for _ in range(length))\n",
        "    return short_url\n",
        "\n",
        "# Route to shorten URL\n",
        "@app.route('/', methods=['GET', 'POST'])\n",
        "def index():\n",
        "    if request.method == 'POST':\n",
        "        original_url = request.form['original_url']\n",
        "        short_url = generate_short_url()\n",
        "\n",
        "        conn = get_db_connection()\n",
        "        conn.execute('INSERT INTO urls (original_url, short_url) VALUES (?, ?)', (original_url, short_url))\n",
        "        conn.commit()\n",
        "        conn.close()\n",
        "\n",
        "        return render_template_string(index_template, short_url=short_url)\n",
        "\n",
        "    return render_template_string(index_template)\n",
        "\n",
        "# Redirect to the original URL\n",
        "@app.route('/<short_url>')\n",
        "def redirect_to_url(short_url):\n",
        "    conn = get_db_connection()\n",
        "    url_data = conn.execute('SELECT original_url FROM urls WHERE short_url = ?', (short_url,)).fetchone()\n",
        "    conn.close()\n",
        "\n",
        "    if url_data:\n",
        "        return redirect(url_data['original_url'])\n",
        "    else:\n",
        "        return 'URL not found', 404\n",
        "\n",
        "index_template = \"\"\"\n",
        "<!doctype html>\n",
        "<html>\n",
        "<head>\n",
        "    <title>URL Shortener</title>\n",
        "</head>\n",
        "<body>\n",
        "    <h1>URL Shortener</h1>\n",
        "    <form method=\"post\">\n",
        "        <label for=\"original_url\">Enter URL to shorten:</label>\n",
        "        <input type=\"text\" id=\"original_url\" name=\"original_url\" required>\n",
        "        <button type=\"submit\">Shorten</button>\n",
        "    </form>\n",
        "\n",
        "    {% if short_url %}\n",
        "        <p>Shortened URL: <a href=\"/{{ short_url }}\">{{ short_url }}</a></p>\n",
        "    {% endif %}\n",
        "</body>\n",
        "</html>\n",
        "\"\"\"\n",
        "\n",
        "init_db()"
      ],
      "metadata": {
        "id": "E_uaWfie-X9u"
      },
      "execution_count": 31,
      "outputs": []
    },
    {
      "cell_type": "code",
      "source": [
        "from pyngrok import ngrok\n",
        "\n",
        "# Terminate any existing tunnels\n",
        "ngrok.kill()\n",
        "\n",
        "# Start a new ngrok tunnel\n",
        "public_url = ngrok.connect(5000)\n",
        "print(f'Public URL: {public_url}')"
      ],
      "metadata": {
        "colab": {
          "base_uri": "https://localhost:8080/"
        },
        "id": "rJQBL2-w-kDL",
        "outputId": "c8078d94-25e0-49b5-fbf0-a18a0f253874"
      },
      "execution_count": 35,
      "outputs": [
        {
          "output_type": "stream",
          "name": "stdout",
          "text": [
            "Public URL: NgrokTunnel: \"https://d4ac-35-194-221-38.ngrok-free.app\" -> \"http://localhost:5000\"\n"
          ]
        }
      ]
    },
    {
      "cell_type": "code",
      "source": [
        "app.run()"
      ],
      "metadata": {
        "colab": {
          "base_uri": "https://localhost:8080/"
        },
        "id": "QeEpAjSVE0JI",
        "outputId": "b0f9354d-688f-4fe5-9a4d-e8acce2ddf37"
      },
      "execution_count": 34,
      "outputs": [
        {
          "output_type": "stream",
          "name": "stdout",
          "text": [
            " * Serving Flask app '__main__'\n",
            " * Debug mode: off\n"
          ]
        },
        {
          "output_type": "stream",
          "name": "stderr",
          "text": [
            "INFO:werkzeug:\u001b[31m\u001b[1mWARNING: This is a development server. Do not use it in a production deployment. Use a production WSGI server instead.\u001b[0m\n",
            " * Running on http://127.0.0.1:5000\n",
            "INFO:werkzeug:\u001b[33mPress CTRL+C to quit\u001b[0m\n"
          ]
        }
      ]
    }
  ]
}